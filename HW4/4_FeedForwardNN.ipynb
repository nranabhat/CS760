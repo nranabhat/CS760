{
 "cells": [
  {
   "cell_type": "markdown",
   "metadata": {},
   "source": [
    "## 4.2 Feed Forward NN Implementation "
   ]
  },
  {
   "cell_type": "code",
   "execution_count": 16,
   "metadata": {},
   "outputs": [
    {
     "name": "stdout",
     "output_type": "stream",
     "text": [
      "X_train: (60000, 28, 28)\n",
      "Y_train: (60000,)\n",
      "X_test:  (10000, 28, 28)\n",
      "Y_test:  (10000,)\n"
     ]
    }
   ],
   "source": [
    "import numpy as np\n",
    "from keras.datasets import mnist\n",
    "(train_X, train_y), (test_X, test_y) = mnist.load_data()\n",
    "print('X_train: ' + str(train_X.shape))\n",
    "print('Y_train: ' + str(train_y.shape))\n",
    "print('X_test:  '  + str(test_X.shape))\n",
    "print('Y_test:  '  + str(test_y.shape))\n",
    "\n",
    "# Flatten the images\n",
    "train_X = train_X.reshape(60000, 784).astype('float32')\n",
    "test_X = test_X.reshape(10000, 784).astype('float32')\n",
    "\n",
    "# Normalize pixel values\n",
    "train_X /= 255\n",
    "test_X /= 255\n",
    "\n",
    "# Convert labels to one-hot encoding\n",
    "train_y_one_hot = np.eye(10)[train_y]\n",
    "test_y_one_hot = np.eye(10)[test_y]\n"
   ]
  },
  {
   "cell_type": "code",
   "execution_count": 26,
   "metadata": {},
   "outputs": [],
   "source": [
    "class SimpleNeuralNetwork:\n",
    "    def __init__(self, input_size, hidden_size, output_size):\n",
    "        # Initialize weights\n",
    "        self.W1 = np.random.randn(hidden_size, input_size) * 0.01\n",
    "        self.W2 = np.random.randn(output_size, hidden_size) * 0.01\n",
    "\n",
    "    def sigmoid(self, z):\n",
    "        return 1 / (1 + np.exp(-z))\n",
    "\n",
    "    def softmax(self, z):\n",
    "        exp_z = np.exp(z - np.max(z, axis=1, keepdims=True))\n",
    "        return exp_z / np.sum(exp_z, axis=1, keepdims=True)\n",
    "\n",
    "    def forward(self, x):\n",
    "        self.z1 = np.dot(x, self.W1.T)\n",
    "        self.a1 = self.sigmoid(self.z1)\n",
    "        self.z2 = np.dot(self.a1, self.W2.T)\n",
    "        self.y_hat = self.softmax(self.z2)\n",
    "        return self.y_hat\n",
    "\n",
    "    def backward(self, x, y, y_hat):\n",
    "        # Gradient of loss w.r.t. W2\n",
    "        delta2 = y_hat - y\n",
    "        dW2 = np.dot(delta2.T, self.a1)\n",
    "\n",
    "        # Gradient of loss w.r.t. W1\n",
    "        delta1 = np.dot(delta2, self.W2) * self.a1 * (1 - self.a1)\n",
    "        dW1 = np.dot(delta1.T, x)\n",
    "\n",
    "        return dW1, dW2\n",
    "\n",
    "    def update_weights(self, dW1, dW2, learning_rate):\n",
    "        self.W1 -= learning_rate * dW1\n",
    "        self.W2 -= learning_rate * dW2\n",
    "\n",
    "    def compute_loss(self, y, y_hat):\n",
    "        m = y.shape[0]\n",
    "        log_likelihood = -np.log(y_hat[range(m), y.argmax(axis=1)])\n",
    "        loss = np.sum(log_likelihood) / m\n",
    "        return loss\n",
    "\n",
    "    def predict(self, x):\n",
    "        y_hat = self.forward(x)\n",
    "        return np.argmax(y_hat, axis=1)\n",
    "\n",
    "    def train(self, train_X, train_y, epochs, learning_rate, batch_size):\n",
    "        history = {'loss': []}\n",
    "        for epoch in range(epochs):\n",
    "            permutation = np.random.permutation(train_X.shape[0])\n",
    "            train_X_shuffled = train_X[permutation]\n",
    "            train_y_shuffled = train_y[permutation]\n",
    "\n",
    "            for i in range(0, train_X.shape[0], batch_size):\n",
    "                # Mini-batch\n",
    "                x_batch = train_X_shuffled[i:i + batch_size]\n",
    "                y_batch = train_y_shuffled[i:i + batch_size]\n",
    "\n",
    "                # Forward pass\n",
    "                y_hat = self.forward(x_batch)\n",
    "\n",
    "                # Backward pass\n",
    "                dW1, dW2 = self.backward(x_batch, y_batch, y_hat)\n",
    "\n",
    "                # Update weights\n",
    "                self.update_weights(dW1, dW2, learning_rate)\n",
    "\n",
    "            # Calculate and store the loss after each epoch\n",
    "            loss = self.compute_loss(train_y, self.forward(train_X))\n",
    "            history['loss'].append(loss)\n",
    "            print(f\"Epoch {epoch + 1}/{epochs}, Loss: {loss:.4f}\")\n",
    "\n",
    "        return history\n",
    "    \n",
    "    def test(self, test_X, test_y):\n",
    "        loss = self.compute_loss(test_y, self.forward(test_X))\n",
    "        print(f\"Test Loss: {loss:.4f}\")\n",
    "        return loss\n",
    "    \n",
    "    def count_misclassifications(self, x, y):\n",
    "        predictions = self.predict(x)\n",
    "        actual_labels = np.argmax(y, axis=1)\n",
    "        misclassifications = np.sum(predictions != actual_labels)\n",
    "        return misclassifications"
   ]
  },
  {
   "cell_type": "code",
   "execution_count": 27,
   "metadata": {},
   "outputs": [
    {
     "name": "stdout",
     "output_type": "stream",
     "text": [
      "Epoch 1/10, Loss: 0.7626\n",
      "Epoch 2/10, Loss: 0.4881\n",
      "Epoch 3/10, Loss: 0.4505\n",
      "Epoch 4/10, Loss: 0.3902\n",
      "Epoch 5/10, Loss: 0.3281\n",
      "Epoch 6/10, Loss: 0.3315\n",
      "Epoch 7/10, Loss: 0.2980\n",
      "Epoch 8/10, Loss: 0.2864\n",
      "Epoch 9/10, Loss: 0.2625\n",
      "Epoch 10/10, Loss: 0.2425\n"
     ]
    }
   ],
   "source": [
    "# Neural network parameters\n",
    "input_size = 784   # MNIST images are 28x28 pixels\n",
    "hidden_size = 300  # d1 = 300\n",
    "output_size = 10   # MNIST has 10 classes (digits 0-9)\n",
    "\n",
    "# Create the neural network\n",
    "nn = SimpleNeuralNetwork(input_size, hidden_size, output_size)\n",
    "\n",
    "# Train the neural network\n",
    "epochs = 10\n",
    "learning_rate = 0.1\n",
    "batch_size = 64\n",
    "history = nn.train(train_X, train_y_one_hot, epochs, learning_rate, batch_size)"
   ]
  },
  {
   "cell_type": "code",
   "execution_count": 28,
   "metadata": {},
   "outputs": [
    {
     "name": "stdout",
     "output_type": "stream",
     "text": [
      "Test Loss: 0.2804\n",
      "Number of misclassifications: 764\n"
     ]
    }
   ],
   "source": [
    "loss = nn.test(test_X, test_y_one_hot)\n",
    "misclassifications = nn.count_misclassifications(test_X, test_y_one_hot)\n",
    "print(f\"Number of misclassifications: {misclassifications}\")"
   ]
  },
  {
   "cell_type": "code",
   "execution_count": 29,
   "metadata": {},
   "outputs": [
    {
     "data": {
      "image/png": "[encoded data removed]",
      "text/plain": [
       "<Figure size 1000x600 with 1 Axes>"
      ]
     },
     "metadata": {},
     "output_type": "display_data"
    }
   ],
   "source": [
    "import matplotlib.pyplot as plt\n",
    "\n",
    "losses = [0.7626, 0.4881, 0.4505, 0.3902, 0.3281, 0.3315, 0.2980, 0.2864, 0.2625, 0.2425]\n",
    "\n",
    "# Epochs\n",
    "epochs = range(1, 11)\n",
    "\n",
    "# Create the plot\n",
    "plt.figure(figsize=(10, 6))\n",
    "plt.plot(epochs, losses, marker='o', linestyle='-', color='b')\n",
    "plt.title('Learning Curve')\n",
    "plt.xlabel('Epoch')\n",
    "plt.ylabel('Loss')\n",
    "plt.grid(True)\n",
    "plt.xticks(epochs)\n",
    "plt.show()"
   ]
  }
 ],
 "metadata": {
  "kernelspec": {
   "display_name": "Python 3",
   "language": "python",
   "name": "python3"
  },
  "language_info": {
   "codemirror_mode": {
    "name": "ipython",
    "version": 3
   },
   "file_extension": ".py",
   "mimetype": "text/x-python",
   "name": "python",
   "nbconvert_exporter": "python",
   "pygments_lexer": "ipython3",
   "version": "3.10.2"
  }
 },
 "nbformat": 4,
 "nbformat_minor": 2
}
